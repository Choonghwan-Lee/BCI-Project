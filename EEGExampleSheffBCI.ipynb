{
  "nbformat": 4,
  "nbformat_minor": 0,
  "metadata": {
    "colab": {
      "provenance": [],
      "include_colab_link": true
    },
    "kernelspec": {
      "name": "python3",
      "display_name": "Python 3"
    },
    "language_info": {
      "name": "python"
    }
  },
  "cells": [
    {
      "cell_type": "markdown",
      "metadata": {
        "id": "view-in-github",
        "colab_type": "text"
      },
      "source": [
        "<a href=\"https://colab.research.google.com/github/Choonghwan-Lee/BCI-Project/blob/main/EEGExampleSheffBCI.ipynb\" target=\"_parent\"><img src=\"https://colab.research.google.com/assets/colab-badge.svg\" alt=\"Open In Colab\"/></a>"
      ]
    },
    {
      "cell_type": "code",
      "execution_count": null,
      "metadata": {
        "colab": {
          "base_uri": "https://localhost:8080/"
        },
        "collapsed": true,
        "id": "2IdpqkAllyGY",
        "outputId": "14cd27df-72e7-45da-afa0-2f5a6985b8ba"
      },
      "outputs": [
        {
          "output_type": "stream",
          "name": "stdout",
          "text": [
            "Requirement already satisfied: mne in /usr/local/lib/python3.10/dist-packages (1.8.0)\n",
            "Requirement already satisfied: decorator in /usr/local/lib/python3.10/dist-packages (from mne) (4.4.2)\n",
            "Requirement already satisfied: jinja2 in /usr/local/lib/python3.10/dist-packages (from mne) (3.1.4)\n",
            "Requirement already satisfied: lazy-loader>=0.3 in /usr/local/lib/python3.10/dist-packages (from mne) (0.4)\n",
            "Requirement already satisfied: matplotlib>=3.6 in /usr/local/lib/python3.10/dist-packages (from mne) (3.8.0)\n",
            "Requirement already satisfied: numpy<3,>=1.23 in /usr/local/lib/python3.10/dist-packages (from mne) (1.26.4)\n",
            "Requirement already satisfied: packaging in /usr/local/lib/python3.10/dist-packages (from mne) (24.2)\n",
            "Requirement already satisfied: pooch>=1.5 in /usr/local/lib/python3.10/dist-packages (from mne) (1.8.2)\n",
            "Requirement already satisfied: scipy>=1.9 in /usr/local/lib/python3.10/dist-packages (from mne) (1.13.1)\n",
            "Requirement already satisfied: tqdm in /usr/local/lib/python3.10/dist-packages (from mne) (4.66.6)\n",
            "Requirement already satisfied: contourpy>=1.0.1 in /usr/local/lib/python3.10/dist-packages (from matplotlib>=3.6->mne) (1.3.0)\n",
            "Requirement already satisfied: cycler>=0.10 in /usr/local/lib/python3.10/dist-packages (from matplotlib>=3.6->mne) (0.12.1)\n",
            "Requirement already satisfied: fonttools>=4.22.0 in /usr/local/lib/python3.10/dist-packages (from matplotlib>=3.6->mne) (4.54.1)\n",
            "Requirement already satisfied: kiwisolver>=1.0.1 in /usr/local/lib/python3.10/dist-packages (from matplotlib>=3.6->mne) (1.4.7)\n",
            "Requirement already satisfied: pillow>=6.2.0 in /usr/local/lib/python3.10/dist-packages (from matplotlib>=3.6->mne) (11.0.0)\n",
            "Requirement already satisfied: pyparsing>=2.3.1 in /usr/local/lib/python3.10/dist-packages (from matplotlib>=3.6->mne) (3.2.0)\n",
            "Requirement already satisfied: python-dateutil>=2.7 in /usr/local/lib/python3.10/dist-packages (from matplotlib>=3.6->mne) (2.8.2)\n",
            "Requirement already satisfied: platformdirs>=2.5.0 in /usr/local/lib/python3.10/dist-packages (from pooch>=1.5->mne) (4.3.6)\n",
            "Requirement already satisfied: requests>=2.19.0 in /usr/local/lib/python3.10/dist-packages (from pooch>=1.5->mne) (2.32.3)\n",
            "Requirement already satisfied: MarkupSafe>=2.0 in /usr/local/lib/python3.10/dist-packages (from jinja2->mne) (3.0.2)\n",
            "Requirement already satisfied: six>=1.5 in /usr/local/lib/python3.10/dist-packages (from python-dateutil>=2.7->matplotlib>=3.6->mne) (1.16.0)\n",
            "Requirement already satisfied: charset-normalizer<4,>=2 in /usr/local/lib/python3.10/dist-packages (from requests>=2.19.0->pooch>=1.5->mne) (3.4.0)\n",
            "Requirement already satisfied: idna<4,>=2.5 in /usr/local/lib/python3.10/dist-packages (from requests>=2.19.0->pooch>=1.5->mne) (3.10)\n",
            "Requirement already satisfied: urllib3<3,>=1.21.1 in /usr/local/lib/python3.10/dist-packages (from requests>=2.19.0->pooch>=1.5->mne) (2.2.3)\n",
            "Requirement already satisfied: certifi>=2017.4.17 in /usr/local/lib/python3.10/dist-packages (from requests>=2.19.0->pooch>=1.5->mne) (2024.8.30)\n",
            "Collecting sklearn\n",
            "  Using cached sklearn-0.0.post12.tar.gz (2.6 kB)\n",
            "  \u001b[1;31merror\u001b[0m: \u001b[1msubprocess-exited-with-error\u001b[0m\n",
            "  \n",
            "  \u001b[31m×\u001b[0m \u001b[32mpython setup.py egg_info\u001b[0m did not run successfully.\n",
            "  \u001b[31m│\u001b[0m exit code: \u001b[1;36m1\u001b[0m\n",
            "  \u001b[31m╰─>\u001b[0m See above for output.\n",
            "  \n",
            "  \u001b[1;35mnote\u001b[0m: This error originates from a subprocess, and is likely not a problem with pip.\n",
            "  Preparing metadata (setup.py) ... \u001b[?25l\u001b[?25herror\n",
            "\u001b[1;31merror\u001b[0m: \u001b[1mmetadata-generation-failed\u001b[0m\n",
            "\n",
            "\u001b[31m×\u001b[0m Encountered error while generating package metadata.\n",
            "\u001b[31m╰─>\u001b[0m See above for output.\n",
            "\n",
            "\u001b[1;35mnote\u001b[0m: This is an issue with the package mentioned above, not pip.\n",
            "\u001b[1;36mhint\u001b[0m: See above for details.\n",
            "Requirement already satisfied: matplotlib in /usr/local/lib/python3.10/dist-packages (3.8.0)\n",
            "Requirement already satisfied: contourpy>=1.0.1 in /usr/local/lib/python3.10/dist-packages (from matplotlib) (1.3.0)\n",
            "Requirement already satisfied: cycler>=0.10 in /usr/local/lib/python3.10/dist-packages (from matplotlib) (0.12.1)\n",
            "Requirement already satisfied: fonttools>=4.22.0 in /usr/local/lib/python3.10/dist-packages (from matplotlib) (4.54.1)\n",
            "Requirement already satisfied: kiwisolver>=1.0.1 in /usr/local/lib/python3.10/dist-packages (from matplotlib) (1.4.7)\n",
            "Requirement already satisfied: numpy<2,>=1.21 in /usr/local/lib/python3.10/dist-packages (from matplotlib) (1.26.4)\n",
            "Requirement already satisfied: packaging>=20.0 in /usr/local/lib/python3.10/dist-packages (from matplotlib) (24.2)\n",
            "Requirement already satisfied: pillow>=6.2.0 in /usr/local/lib/python3.10/dist-packages (from matplotlib) (11.0.0)\n",
            "Requirement already satisfied: pyparsing>=2.3.1 in /usr/local/lib/python3.10/dist-packages (from matplotlib) (3.2.0)\n",
            "Requirement already satisfied: python-dateutil>=2.7 in /usr/local/lib/python3.10/dist-packages (from matplotlib) (2.8.2)\n",
            "Requirement already satisfied: six>=1.5 in /usr/local/lib/python3.10/dist-packages (from python-dateutil>=2.7->matplotlib) (1.16.0)\n",
            "Requirement already satisfied: torch in /usr/local/lib/python3.10/dist-packages (2.5.0+cu121)\n",
            "Requirement already satisfied: filelock in /usr/local/lib/python3.10/dist-packages (from torch) (3.16.1)\n",
            "Requirement already satisfied: typing-extensions>=4.8.0 in /usr/local/lib/python3.10/dist-packages (from torch) (4.12.2)\n",
            "Requirement already satisfied: networkx in /usr/local/lib/python3.10/dist-packages (from torch) (3.4.2)\n",
            "Requirement already satisfied: jinja2 in /usr/local/lib/python3.10/dist-packages (from torch) (3.1.4)\n",
            "Requirement already satisfied: fsspec in /usr/local/lib/python3.10/dist-packages (from torch) (2024.10.0)\n",
            "Requirement already satisfied: sympy==1.13.1 in /usr/local/lib/python3.10/dist-packages (from torch) (1.13.1)\n",
            "Requirement already satisfied: mpmath<1.4,>=1.1.0 in /usr/local/lib/python3.10/dist-packages (from sympy==1.13.1->torch) (1.3.0)\n",
            "Requirement already satisfied: MarkupSafe>=2.0 in /usr/local/lib/python3.10/dist-packages (from jinja2->torch) (3.0.2)\n",
            "Requirement already satisfied: torchvision in /usr/local/lib/python3.10/dist-packages (0.20.0+cu121)\n",
            "Requirement already satisfied: numpy in /usr/local/lib/python3.10/dist-packages (from torchvision) (1.26.4)\n",
            "Requirement already satisfied: torch==2.5.0 in /usr/local/lib/python3.10/dist-packages (from torchvision) (2.5.0+cu121)\n",
            "Requirement already satisfied: pillow!=8.3.*,>=5.3.0 in /usr/local/lib/python3.10/dist-packages (from torchvision) (11.0.0)\n",
            "Requirement already satisfied: filelock in /usr/local/lib/python3.10/dist-packages (from torch==2.5.0->torchvision) (3.16.1)\n",
            "Requirement already satisfied: typing-extensions>=4.8.0 in /usr/local/lib/python3.10/dist-packages (from torch==2.5.0->torchvision) (4.12.2)\n",
            "Requirement already satisfied: networkx in /usr/local/lib/python3.10/dist-packages (from torch==2.5.0->torchvision) (3.4.2)\n",
            "Requirement already satisfied: jinja2 in /usr/local/lib/python3.10/dist-packages (from torch==2.5.0->torchvision) (3.1.4)\n",
            "Requirement already satisfied: fsspec in /usr/local/lib/python3.10/dist-packages (from torch==2.5.0->torchvision) (2024.10.0)\n",
            "Requirement already satisfied: sympy==1.13.1 in /usr/local/lib/python3.10/dist-packages (from torch==2.5.0->torchvision) (1.13.1)\n",
            "Requirement already satisfied: mpmath<1.4,>=1.1.0 in /usr/local/lib/python3.10/dist-packages (from sympy==1.13.1->torch==2.5.0->torchvision) (1.3.0)\n",
            "Requirement already satisfied: MarkupSafe>=2.0 in /usr/local/lib/python3.10/dist-packages (from jinja2->torch==2.5.0->torchvision) (3.0.2)\n",
            "Requirement already satisfied: tensorboardX in /usr/local/lib/python3.10/dist-packages (2.6.2.2)\n",
            "Requirement already satisfied: numpy in /usr/local/lib/python3.10/dist-packages (from tensorboardX) (1.26.4)\n",
            "Requirement already satisfied: packaging in /usr/local/lib/python3.10/dist-packages (from tensorboardX) (24.2)\n",
            "Requirement already satisfied: protobuf>=3.20 in /usr/local/lib/python3.10/dist-packages (from tensorboardX) (4.25.5)\n"
          ]
        }
      ],
      "source": [
        "# Run these from the console if following along locally\n",
        "!pip install mne\n",
        "!pip install sklearn\n",
        "!pip install matplotlib\n",
        "from matplotlib import rcParams\n",
        "!pip install torch\n",
        "!pip install torchvision\n",
        "!pip install tensorboardX"
      ]
    },
    {
      "cell_type": "code",
      "source": [],
      "metadata": {
        "id": "8EzcnfNuyh0L"
      },
      "execution_count": null,
      "outputs": []
    },
    {
      "cell_type": "markdown",
      "source": [
        "Copyright Shohail Ismail, 2024"
      ],
      "metadata": {
        "id": "ueXoOCUmmpP8"
      }
    },
    {
      "cell_type": "code",
      "source": [
        "# Suppress warnings for clean output\n",
        "import warnings\n",
        "warnings.filterwarnings('ignore')\n"
      ],
      "metadata": {
        "id": "7CihoWKtmtc7"
      },
      "execution_count": null,
      "outputs": []
    },
    {
      "cell_type": "code",
      "source": [
        "from collections import OrderedDict\n",
        "from pylab import rcParams\n",
        "import torch\n",
        "import torch.nn as nn\n",
        "import torchvision.transforms\n",
        "import matplotlib.pyplot as plt\n",
        "import numpy as np\n",
        "import mne\n",
        "from sklearn.preprocessing import RobustScaler"
      ],
      "metadata": {
        "id": "ZKlUb211mwG4"
      },
      "execution_count": null,
      "outputs": []
    },
    {
      "cell_type": "code",
      "source": [
        "# Set the random seed for consistency\n",
        "torch.manual_seed(100)"
      ],
      "metadata": {
        "colab": {
          "base_uri": "https://localhost:8080/"
        },
        "id": "JhbD0Xjsm3OR",
        "outputId": "5c4f6d1b-cd44-4c01-d3eb-008e15c355d9"
      },
      "execution_count": null,
      "outputs": [
        {
          "output_type": "execute_result",
          "data": {
            "text/plain": [
              "<torch._C.Generator at 0x7e2fd160d9b0>"
            ]
          },
          "metadata": {},
          "execution_count": 87
        }
      ]
    },
    {
      "cell_type": "code",
      "source": [
        "# Step 2: Initialize Parameters\n",
        "eeg_sample_count = 240\n",
        "learning_rate = 1e-3\n",
        "eeg_sample_length = 226\n",
        "number_of_classes = 1\n",
        "hidden1 = 500\n",
        "hidden2 = 1000\n",
        "hidden3 = 100\n",
        "output = 10"
      ],
      "metadata": {
        "id": "cX0Q2CkAnLgp"
      },
      "execution_count": null,
      "outputs": []
    },
    {
      "cell_type": "code",
      "source": [
        "## Define the network\n",
        "tutorial_model = nn.Sequential()\n",
        "\n",
        "# Input Layer (Size 226 -> 500)\n",
        "tutorial_model.add_module('Input Linear', nn.Linear(eeg_sample_length, hidden1))\n",
        "tutorial_model.add_module('Input Activation', nn.CELU())\n",
        "\n",
        "# Hidden Layer (Size 500 -> 1000)\n",
        "tutorial_model.add_module('Hidden Linear', nn.Linear(hidden1, hidden2))\n",
        "tutorial_model.add_module('Hidden Activation', nn.ReLU())\n",
        "\n",
        "# Hidden Layer (Size 1000 -> 100)\n",
        "tutorial_model.add_module('Hidden Linear2', nn.Linear(hidden2, hidden3))\n",
        "tutorial_model.add_module('Hidden Activation2', nn.ReLU())\n",
        "\n",
        "# Hidden Layer (Size 100 -> 10)\n",
        "tutorial_model.add_module('Hidden Linear3', nn.Linear(hidden3, 10))\n",
        "tutorial_model.add_module('Hidden Activation3', nn.ReLU())\n",
        "\n",
        "# Output Layer (Size 10 -> 1)\n",
        "tutorial_model.add_module('Output Linear', nn.Linear(10, number_of_classes))\n",
        "tutorial_model.add_module('Output Activation', nn.Sigmoid())"
      ],
      "metadata": {
        "id": "TmqDs0TCxhDn"
      },
      "execution_count": null,
      "outputs": []
    },
    {
      "cell_type": "code",
      "source": [
        "# Define a loss function\n",
        "loss_function = torch.nn.MSELoss()\n",
        "\n",
        "# Define a training procedure\n",
        "def train_network(train_data, actual_class, iterations):\n",
        "    loss_data = []\n",
        "    for i in range(iterations):\n",
        "        classification = tutorial_model(train_data)\n",
        "        loss = loss_function(classification, actual_class)\n",
        "        loss_data.append(loss)\n",
        "        optimizer.zero_grad()\n",
        "        loss.backward()\n",
        "        optimizer.step()\n",
        "\n",
        "    rcParams['figure.figsize'] = 10, 5\n",
        "    plt.title(\"Loss vs Iterations\")\n",
        "    plt.plot(list(range(0, len(loss_data))), loss_data)\n",
        "    plt.show()\n",
        "\n",
        "torch.save(tutorial_model, \"/home/tutorial_model_default_state\")"
      ],
      "metadata": {
        "id": "tp9Jq1IaxiF9"
      },
      "execution_count": null,
      "outputs": []
    },
    {
      "cell_type": "code",
      "source": [
        "# Step 3: Create Sample Data\n",
        "sample_positives = [None, None]\n",
        "sample_positives[0] = torch.rand(int(eeg_sample_count / 2), eeg_sample_length) * 0.50 + 0.25\n",
        "sample_positives[1] = torch.ones([int(eeg_sample_count / 2), 1], dtype=torch.float32)\n",
        "\n",
        "sample_negatives = [None, None]\n",
        "sample_negatives_low = torch.rand(int(eeg_sample_count / 4), eeg_sample_length) * 0.25\n",
        "sample_negatives_high = torch.rand(int(eeg_sample_count / 4), eeg_sample_length) * 0.25 + 0.75\n",
        "sample_negatives[0] = torch.cat([sample_negatives_low, sample_negatives_high], dim = 0)\n",
        "sample_negatives[1] = torch.zeros([int(eeg_sample_count / 2), 1], dtype=torch.float32)\n",
        "\n",
        "samples = [None, None]\n",
        "samples[0] = torch.cat([sample_positives[0], sample_negatives[0]], dim = 0)\n",
        "samples[1] = torch.cat([sample_positives[1], sample_negatives[1]], dim = 0)\n",
        "\n",
        "test_positives = torch.rand(10, eeg_sample_length) * 0.50 + 0.25\n",
        "test_negatives_low = torch.rand(5, eeg_sample_length) * 0.25\n",
        "test_negatives_high = torch.rand(5, eeg_sample_length) * 0.25 + 0.75\n",
        "test_negatives = torch.cat([test_negatives_low, test_negatives_high], dim = 0)\n"
      ],
      "metadata": {
        "id": "M27jYgTjnQgK"
      },
      "execution_count": null,
      "outputs": []
    },
    {
      "cell_type": "code",
      "source": [
        "# Step 6: Verify the Network Works\n",
        "predicted_positives = tutorial_model(test_positives).data.tolist()\n",
        "for index, value in enumerate(predicted_positives):\n",
        "    print(\"Positive Test {1} Value scored: {0:.2f}%\".format(value[0] * 100, index + 1))\n",
        "\n",
        "predicted_negatives = tutorial_model(test_negatives).data.tolist()\n",
        "for index, value in enumerate(predicted_negatives):\n",
        "    print(\"Negative Test {1} Value scored: {0:.2f}%\".format(value[0] * 100, index + 1))\n"
      ],
      "metadata": {
        "colab": {
          "base_uri": "https://localhost:8080/"
        },
        "id": "eUAIhCmSnTqt",
        "outputId": "f7579acd-d7ea-40a0-dda3-1dfe5baf4a11"
      },
      "execution_count": null,
      "outputs": [
        {
          "output_type": "stream",
          "name": "stdout",
          "text": [
            "Positive Test 1 Value scored: 54.77%\n",
            "Positive Test 2 Value scored: 54.73%\n",
            "Positive Test 3 Value scored: 54.74%\n",
            "Positive Test 4 Value scored: 54.78%\n",
            "Positive Test 5 Value scored: 54.72%\n",
            "Positive Test 6 Value scored: 54.69%\n",
            "Positive Test 7 Value scored: 54.73%\n",
            "Positive Test 8 Value scored: 54.66%\n",
            "Positive Test 9 Value scored: 54.78%\n",
            "Positive Test 10 Value scored: 54.69%\n",
            "Negative Test 1 Value scored: 54.59%\n",
            "Negative Test 2 Value scored: 54.58%\n",
            "Negative Test 3 Value scored: 54.53%\n",
            "Negative Test 4 Value scored: 54.58%\n",
            "Negative Test 5 Value scored: 54.56%\n",
            "Negative Test 6 Value scored: 54.87%\n",
            "Negative Test 7 Value scored: 54.87%\n",
            "Negative Test 8 Value scored: 54.89%\n",
            "Negative Test 9 Value scored: 54.88%\n",
            "Negative Test 10 Value scored: 54.87%\n"
          ]
        }
      ]
    },
    {
      "cell_type": "code",
      "source": [
        "# Step 7: Retrieve Data from the MNE EEG Dataset\n",
        "data_path = str(mne.datasets.sample.data_path())\n",
        "raw_fname = data_path + '/MEG/sample/sample_audvis_filt-0-40_raw.fif'\n",
        "event_fname = data_path + '/MEG/sample/sample_audvis_filt-0-40_raw-eve.fif'\n",
        "\n",
        "raw_data = mne.io.read_raw_fif(raw_fname, preload=True)\n",
        "raw_data.set_eeg_reference()\n",
        "raw_data = raw_data.pick(picks=[\"eeg\",\"eog\"])\n",
        "picks_eeg_only = mne.pick_types(raw_data.info, eeg=True, eog=True, meg=False, exclude='bads')\n",
        "\n",
        "events = mne.read_events(event_fname)\n",
        "event_id = 5\n",
        "tmin = -0.5\n",
        "tmax = 1\n",
        "epochs = mne.Epochs(raw_data, events, event_id, tmin, tmax, proj=True, picks=picks_eeg_only, baseline=(None, 0), preload=True, reject=dict(eeg=100e-6, eog=150e-6), verbose=False)\n",
        "\n",
        "channel = \"EEG 058\"\n",
        "sensor_position_figure = epochs.plot_sensors(show_names=[channel])\n"
      ],
      "metadata": {
        "colab": {
          "base_uri": "https://localhost:8080/",
          "height": 931
        },
        "id": "lPeV93h_nXTY",
        "outputId": "8d4cb59c-bce1-43d4-df99-7e64ef96a648"
      },
      "execution_count": null,
      "outputs": [
        {
          "output_type": "stream",
          "name": "stdout",
          "text": [
            "Opening raw data file /root/mne_data/MNE-sample-data/MEG/sample/sample_audvis_filt-0-40_raw.fif...\n",
            "    Read a total of 4 projection items:\n",
            "        PCA-v1 (1 x 102)  idle\n",
            "        PCA-v2 (1 x 102)  idle\n",
            "        PCA-v3 (1 x 102)  idle\n",
            "        Average EEG reference (1 x 60)  idle\n",
            "    Range : 6450 ... 48149 =     42.956 ...   320.665 secs\n",
            "Ready.\n",
            "Reading 0 ... 41699  =      0.000 ...   277.709 secs...\n",
            "EEG channel type selected for re-referencing\n",
            "Applying average reference.\n",
            "Applying a custom ('EEG',) reference.\n",
            "Removing existing average EEG reference projection.\n",
            "Created an SSP operator (subspace dimension = 3)\n"
          ]
        },
        {
          "output_type": "display_data",
          "data": {
            "text/plain": [
              "<Figure size 640x640 with 1 Axes>"
            ],
            "image/png": "[encoded data removed]"
          },
          "metadata": {}
        }
      ]
    },
    {
      "cell_type": "code",
      "source": [
        "# Processing the data for network compatibility\n",
        "eeg_data_scaler = RobustScaler()\n",
        "p300s = np.squeeze(epochs.get_data(picks=channel))\n",
        "others = np.squeeze(epochsNoP300.get_data(picks=channel))\n",
        "p300s = p300s.transpose()\n",
        "p300s = eeg_data_scaler.fit_transform(p300s)\n",
        "p300s = p300s.transpose()\n",
        "others = others.transpose()\n",
        "others = eeg_data_scaler.fit_transform(others)\n",
        "others = others.transpose()\n",
        "\n",
        "p300s_train = p300s[0:9]\n",
        "p300s_test = p300s[9:12]\n",
        "p300s_test = torch.tensor(p300s_test).float()\n",
        "others_train = others[30:39]\n",
        "others_test = others[39:42]\n",
        "others_test = torch.tensor(others_test).float()\n",
        "\n",
        "training_data = torch.tensor(np.concatenate((p300s_train, others_train), axis = 0)).float()\n",
        "positive_testing_data = torch.tensor(p300s_test).float()\n",
        "negative_testing_data = torch.tensor(others_test).float()\n",
        "\n",
        "labels = torch.tensor(np.zeros((training_data.shape[0],1))).float()\n",
        "labels[0:10] = 1.0\n"
      ],
      "metadata": {
        "id": "-M9t02dLnZ-z"
      },
      "execution_count": null,
      "outputs": []
    },
    {
      "cell_type": "code",
      "source": [
        "# Step 8: Classify the Dataset with the Neural Network\n",
        "tutorial_model = torch.load(\"/home/tutorial_model_default_state\")\n",
        "optimizer = torch.optim.Adam(tutorial_model.parameters(), lr = learning_rate)\n",
        "print(\"Below is the loss graph for dataset training session\")\n",
        "train_network(training_data, labels, iterations = 50)\n"
      ],
      "metadata": {
        "colab": {
          "base_uri": "https://localhost:8080/",
          "height": 747
        },
        "id": "ny2dyXXgnbnk",
        "outputId": "13db9184-358b-4539-a17d-098fe17b457e"
      },
      "execution_count": null,
      "outputs": [
        {
          "output_type": "stream",
          "name": "stdout",
          "text": [
            "Below is the loss graph for dataset training session\n"
          ]
        },
        {
          "output_type": "error",
          "ename": "RuntimeError",
          "evalue": "Can't call numpy() on Tensor that requires grad. Use tensor.detach().numpy() instead.",
          "traceback": [
            "\u001b[0;31m---------------------------------------------------------------------------\u001b[0m",
            "\u001b[0;31mRuntimeError\u001b[0m                              Traceback (most recent call last)",
            "\u001b[0;32m<ipython-input-83-86ff91c53145>\u001b[0m in \u001b[0;36m<cell line: 5>\u001b[0;34m()\u001b[0m\n\u001b[1;32m      3\u001b[0m \u001b[0moptimizer\u001b[0m \u001b[0;34m=\u001b[0m \u001b[0mtorch\u001b[0m\u001b[0;34m.\u001b[0m\u001b[0moptim\u001b[0m\u001b[0;34m.\u001b[0m\u001b[0mAdam\u001b[0m\u001b[0;34m(\u001b[0m\u001b[0mtutorial_model\u001b[0m\u001b[0;34m.\u001b[0m\u001b[0mparameters\u001b[0m\u001b[0;34m(\u001b[0m\u001b[0;34m)\u001b[0m\u001b[0;34m,\u001b[0m \u001b[0mlr\u001b[0m \u001b[0;34m=\u001b[0m \u001b[0mlearning_rate\u001b[0m\u001b[0;34m)\u001b[0m\u001b[0;34m\u001b[0m\u001b[0;34m\u001b[0m\u001b[0m\n\u001b[1;32m      4\u001b[0m \u001b[0mprint\u001b[0m\u001b[0;34m(\u001b[0m\u001b[0;34m\"Below is the loss graph for dataset training session\"\u001b[0m\u001b[0;34m)\u001b[0m\u001b[0;34m\u001b[0m\u001b[0;34m\u001b[0m\u001b[0m\n\u001b[0;32m----> 5\u001b[0;31m \u001b[0mtrain_network\u001b[0m\u001b[0;34m(\u001b[0m\u001b[0mtraining_data\u001b[0m\u001b[0;34m,\u001b[0m \u001b[0mlabels\u001b[0m\u001b[0;34m,\u001b[0m \u001b[0miterations\u001b[0m \u001b[0;34m=\u001b[0m \u001b[0;36m50\u001b[0m\u001b[0;34m)\u001b[0m\u001b[0;34m\u001b[0m\u001b[0;34m\u001b[0m\u001b[0m\n\u001b[0m",
            "\u001b[0;32m<ipython-input-77-4bc312af278a>\u001b[0m in \u001b[0;36mtrain_network\u001b[0;34m(train_data, actual_class, iterations)\u001b[0m\n\u001b[1;32m     15\u001b[0m     \u001b[0mrcParams\u001b[0m\u001b[0;34m[\u001b[0m\u001b[0;34m'figure.figsize'\u001b[0m\u001b[0;34m]\u001b[0m \u001b[0;34m=\u001b[0m \u001b[0;36m10\u001b[0m\u001b[0;34m,\u001b[0m \u001b[0;36m5\u001b[0m\u001b[0;34m\u001b[0m\u001b[0;34m\u001b[0m\u001b[0m\n\u001b[1;32m     16\u001b[0m     \u001b[0mplt\u001b[0m\u001b[0;34m.\u001b[0m\u001b[0mtitle\u001b[0m\u001b[0;34m(\u001b[0m\u001b[0;34m\"Loss vs Iterations\"\u001b[0m\u001b[0;34m)\u001b[0m\u001b[0;34m\u001b[0m\u001b[0;34m\u001b[0m\u001b[0m\n\u001b[0;32m---> 17\u001b[0;31m     \u001b[0mplt\u001b[0m\u001b[0;34m.\u001b[0m\u001b[0mplot\u001b[0m\u001b[0;34m(\u001b[0m\u001b[0mlist\u001b[0m\u001b[0;34m(\u001b[0m\u001b[0mrange\u001b[0m\u001b[0;34m(\u001b[0m\u001b[0;36m0\u001b[0m\u001b[0;34m,\u001b[0m \u001b[0mlen\u001b[0m\u001b[0;34m(\u001b[0m\u001b[0mloss_data\u001b[0m\u001b[0;34m)\u001b[0m\u001b[0;34m)\u001b[0m\u001b[0;34m)\u001b[0m\u001b[0;34m,\u001b[0m \u001b[0mloss_data\u001b[0m\u001b[0;34m)\u001b[0m\u001b[0;34m\u001b[0m\u001b[0;34m\u001b[0m\u001b[0m\n\u001b[0m\u001b[1;32m     18\u001b[0m     \u001b[0mplt\u001b[0m\u001b[0;34m.\u001b[0m\u001b[0mshow\u001b[0m\u001b[0;34m(\u001b[0m\u001b[0;34m)\u001b[0m\u001b[0;34m\u001b[0m\u001b[0;34m\u001b[0m\u001b[0m\n\u001b[1;32m     19\u001b[0m \u001b[0;34m\u001b[0m\u001b[0m\n",
            "\u001b[0;32m/usr/local/lib/python3.10/dist-packages/matplotlib/pyplot.py\u001b[0m in \u001b[0;36mplot\u001b[0;34m(scalex, scaley, data, *args, **kwargs)\u001b[0m\n\u001b[1;32m   3576\u001b[0m     \u001b[0;34m**\u001b[0m\u001b[0mkwargs\u001b[0m\u001b[0;34m,\u001b[0m\u001b[0;34m\u001b[0m\u001b[0;34m\u001b[0m\u001b[0m\n\u001b[1;32m   3577\u001b[0m ) -> list[Line2D]:\n\u001b[0;32m-> 3578\u001b[0;31m     return gca().plot(\n\u001b[0m\u001b[1;32m   3579\u001b[0m         \u001b[0;34m*\u001b[0m\u001b[0margs\u001b[0m\u001b[0;34m,\u001b[0m\u001b[0;34m\u001b[0m\u001b[0;34m\u001b[0m\u001b[0m\n\u001b[1;32m   3580\u001b[0m         \u001b[0mscalex\u001b[0m\u001b[0;34m=\u001b[0m\u001b[0mscalex\u001b[0m\u001b[0;34m,\u001b[0m\u001b[0;34m\u001b[0m\u001b[0;34m\u001b[0m\u001b[0m\n",
            "\u001b[0;32m/usr/local/lib/python3.10/dist-packages/matplotlib/axes/_axes.py\u001b[0m in \u001b[0;36mplot\u001b[0;34m(self, scalex, scaley, data, *args, **kwargs)\u001b[0m\n\u001b[1;32m   1719\u001b[0m         \"\"\"\n\u001b[1;32m   1720\u001b[0m         \u001b[0mkwargs\u001b[0m \u001b[0;34m=\u001b[0m \u001b[0mcbook\u001b[0m\u001b[0;34m.\u001b[0m\u001b[0mnormalize_kwargs\u001b[0m\u001b[0;34m(\u001b[0m\u001b[0mkwargs\u001b[0m\u001b[0;34m,\u001b[0m \u001b[0mmlines\u001b[0m\u001b[0;34m.\u001b[0m\u001b[0mLine2D\u001b[0m\u001b[0;34m)\u001b[0m\u001b[0;34m\u001b[0m\u001b[0;34m\u001b[0m\u001b[0m\n\u001b[0;32m-> 1721\u001b[0;31m         \u001b[0mlines\u001b[0m \u001b[0;34m=\u001b[0m \u001b[0;34m[\u001b[0m\u001b[0;34m*\u001b[0m\u001b[0mself\u001b[0m\u001b[0;34m.\u001b[0m\u001b[0m_get_lines\u001b[0m\u001b[0;34m(\u001b[0m\u001b[0mself\u001b[0m\u001b[0;34m,\u001b[0m \u001b[0;34m*\u001b[0m\u001b[0margs\u001b[0m\u001b[0;34m,\u001b[0m \u001b[0mdata\u001b[0m\u001b[0;34m=\u001b[0m\u001b[0mdata\u001b[0m\u001b[0;34m,\u001b[0m \u001b[0;34m**\u001b[0m\u001b[0mkwargs\u001b[0m\u001b[0;34m)\u001b[0m\u001b[0;34m]\u001b[0m\u001b[0;34m\u001b[0m\u001b[0;34m\u001b[0m\u001b[0m\n\u001b[0m\u001b[1;32m   1722\u001b[0m         \u001b[0;32mfor\u001b[0m \u001b[0mline\u001b[0m \u001b[0;32min\u001b[0m \u001b[0mlines\u001b[0m\u001b[0;34m:\u001b[0m\u001b[0;34m\u001b[0m\u001b[0;34m\u001b[0m\u001b[0m\n\u001b[1;32m   1723\u001b[0m             \u001b[0mself\u001b[0m\u001b[0;34m.\u001b[0m\u001b[0madd_line\u001b[0m\u001b[0;34m(\u001b[0m\u001b[0mline\u001b[0m\u001b[0;34m)\u001b[0m\u001b[0;34m\u001b[0m\u001b[0;34m\u001b[0m\u001b[0m\n",
            "\u001b[0;32m/usr/local/lib/python3.10/dist-packages/matplotlib/axes/_base.py\u001b[0m in \u001b[0;36m__call__\u001b[0;34m(self, axes, data, *args, **kwargs)\u001b[0m\n\u001b[1;32m    301\u001b[0m                 \u001b[0mthis\u001b[0m \u001b[0;34m+=\u001b[0m \u001b[0margs\u001b[0m\u001b[0;34m[\u001b[0m\u001b[0;36m0\u001b[0m\u001b[0;34m]\u001b[0m\u001b[0;34m,\u001b[0m\u001b[0;34m\u001b[0m\u001b[0;34m\u001b[0m\u001b[0m\n\u001b[1;32m    302\u001b[0m                 \u001b[0margs\u001b[0m \u001b[0;34m=\u001b[0m \u001b[0margs\u001b[0m\u001b[0;34m[\u001b[0m\u001b[0;36m1\u001b[0m\u001b[0;34m:\u001b[0m\u001b[0;34m]\u001b[0m\u001b[0;34m\u001b[0m\u001b[0;34m\u001b[0m\u001b[0m\n\u001b[0;32m--> 303\u001b[0;31m             yield from self._plot_args(\n\u001b[0m\u001b[1;32m    304\u001b[0m                 axes, this, kwargs, ambiguous_fmt_datakey=ambiguous_fmt_datakey)\n\u001b[1;32m    305\u001b[0m \u001b[0;34m\u001b[0m\u001b[0m\n",
            "\u001b[0;32m/usr/local/lib/python3.10/dist-packages/matplotlib/axes/_base.py\u001b[0m in \u001b[0;36m_plot_args\u001b[0;34m(self, axes, tup, kwargs, return_kwargs, ambiguous_fmt_datakey)\u001b[0m\n\u001b[1;32m    487\u001b[0m         \u001b[0;32mif\u001b[0m \u001b[0mlen\u001b[0m\u001b[0;34m(\u001b[0m\u001b[0mxy\u001b[0m\u001b[0;34m)\u001b[0m \u001b[0;34m==\u001b[0m \u001b[0;36m2\u001b[0m\u001b[0;34m:\u001b[0m\u001b[0;34m\u001b[0m\u001b[0;34m\u001b[0m\u001b[0m\n\u001b[1;32m    488\u001b[0m             \u001b[0mx\u001b[0m \u001b[0;34m=\u001b[0m \u001b[0m_check_1d\u001b[0m\u001b[0;34m(\u001b[0m\u001b[0mxy\u001b[0m\u001b[0;34m[\u001b[0m\u001b[0;36m0\u001b[0m\u001b[0;34m]\u001b[0m\u001b[0;34m)\u001b[0m\u001b[0;34m\u001b[0m\u001b[0;34m\u001b[0m\u001b[0m\n\u001b[0;32m--> 489\u001b[0;31m             \u001b[0my\u001b[0m \u001b[0;34m=\u001b[0m \u001b[0m_check_1d\u001b[0m\u001b[0;34m(\u001b[0m\u001b[0mxy\u001b[0m\u001b[0;34m[\u001b[0m\u001b[0;36m1\u001b[0m\u001b[0;34m]\u001b[0m\u001b[0;34m)\u001b[0m\u001b[0;34m\u001b[0m\u001b[0;34m\u001b[0m\u001b[0m\n\u001b[0m\u001b[1;32m    490\u001b[0m         \u001b[0;32melse\u001b[0m\u001b[0;34m:\u001b[0m\u001b[0;34m\u001b[0m\u001b[0;34m\u001b[0m\u001b[0m\n\u001b[1;32m    491\u001b[0m             \u001b[0mx\u001b[0m\u001b[0;34m,\u001b[0m \u001b[0my\u001b[0m \u001b[0;34m=\u001b[0m \u001b[0mindex_of\u001b[0m\u001b[0;34m(\u001b[0m\u001b[0mxy\u001b[0m\u001b[0;34m[\u001b[0m\u001b[0;34m-\u001b[0m\u001b[0;36m1\u001b[0m\u001b[0;34m]\u001b[0m\u001b[0;34m)\u001b[0m\u001b[0;34m\u001b[0m\u001b[0;34m\u001b[0m\u001b[0m\n",
            "\u001b[0;32m/usr/local/lib/python3.10/dist-packages/matplotlib/cbook.py\u001b[0m in \u001b[0;36m_check_1d\u001b[0;34m(x)\u001b[0m\n\u001b[1;32m   1356\u001b[0m             \u001b[0;32mnot\u001b[0m \u001b[0mhasattr\u001b[0m\u001b[0;34m(\u001b[0m\u001b[0mx\u001b[0m\u001b[0;34m,\u001b[0m \u001b[0;34m'ndim'\u001b[0m\u001b[0;34m)\u001b[0m \u001b[0;32mor\u001b[0m\u001b[0;34m\u001b[0m\u001b[0;34m\u001b[0m\u001b[0m\n\u001b[1;32m   1357\u001b[0m             len(x.shape) < 1):\n\u001b[0;32m-> 1358\u001b[0;31m         \u001b[0;32mreturn\u001b[0m \u001b[0mnp\u001b[0m\u001b[0;34m.\u001b[0m\u001b[0matleast_1d\u001b[0m\u001b[0;34m(\u001b[0m\u001b[0mx\u001b[0m\u001b[0;34m)\u001b[0m\u001b[0;34m\u001b[0m\u001b[0;34m\u001b[0m\u001b[0m\n\u001b[0m\u001b[1;32m   1359\u001b[0m     \u001b[0;32melse\u001b[0m\u001b[0;34m:\u001b[0m\u001b[0;34m\u001b[0m\u001b[0;34m\u001b[0m\u001b[0m\n\u001b[1;32m   1360\u001b[0m         \u001b[0;32mreturn\u001b[0m \u001b[0mx\u001b[0m\u001b[0;34m\u001b[0m\u001b[0;34m\u001b[0m\u001b[0m\n",
            "\u001b[0;32m/usr/local/lib/python3.10/dist-packages/numpy/core/shape_base.py\u001b[0m in \u001b[0;36matleast_1d\u001b[0;34m(*arys)\u001b[0m\n\u001b[1;32m     63\u001b[0m     \u001b[0mres\u001b[0m \u001b[0;34m=\u001b[0m \u001b[0;34m[\u001b[0m\u001b[0;34m]\u001b[0m\u001b[0;34m\u001b[0m\u001b[0;34m\u001b[0m\u001b[0m\n\u001b[1;32m     64\u001b[0m     \u001b[0;32mfor\u001b[0m \u001b[0mary\u001b[0m \u001b[0;32min\u001b[0m \u001b[0marys\u001b[0m\u001b[0;34m:\u001b[0m\u001b[0;34m\u001b[0m\u001b[0;34m\u001b[0m\u001b[0m\n\u001b[0;32m---> 65\u001b[0;31m         \u001b[0mary\u001b[0m \u001b[0;34m=\u001b[0m \u001b[0masanyarray\u001b[0m\u001b[0;34m(\u001b[0m\u001b[0mary\u001b[0m\u001b[0;34m)\u001b[0m\u001b[0;34m\u001b[0m\u001b[0;34m\u001b[0m\u001b[0m\n\u001b[0m\u001b[1;32m     66\u001b[0m         \u001b[0;32mif\u001b[0m \u001b[0mary\u001b[0m\u001b[0;34m.\u001b[0m\u001b[0mndim\u001b[0m \u001b[0;34m==\u001b[0m \u001b[0;36m0\u001b[0m\u001b[0;34m:\u001b[0m\u001b[0;34m\u001b[0m\u001b[0;34m\u001b[0m\u001b[0m\n\u001b[1;32m     67\u001b[0m             \u001b[0mresult\u001b[0m \u001b[0;34m=\u001b[0m \u001b[0mary\u001b[0m\u001b[0;34m.\u001b[0m\u001b[0mreshape\u001b[0m\u001b[0;34m(\u001b[0m\u001b[0;36m1\u001b[0m\u001b[0;34m)\u001b[0m\u001b[0;34m\u001b[0m\u001b[0;34m\u001b[0m\u001b[0m\n",
            "\u001b[0;32m/usr/local/lib/python3.10/dist-packages/torch/_tensor.py\u001b[0m in \u001b[0;36m__array__\u001b[0;34m(self, dtype)\u001b[0m\n\u001b[1;32m   1147\u001b[0m             \u001b[0;32mreturn\u001b[0m \u001b[0mhandle_torch_function\u001b[0m\u001b[0;34m(\u001b[0m\u001b[0mTensor\u001b[0m\u001b[0;34m.\u001b[0m\u001b[0m__array__\u001b[0m\u001b[0;34m,\u001b[0m \u001b[0;34m(\u001b[0m\u001b[0mself\u001b[0m\u001b[0;34m,\u001b[0m\u001b[0;34m)\u001b[0m\u001b[0;34m,\u001b[0m \u001b[0mself\u001b[0m\u001b[0;34m,\u001b[0m \u001b[0mdtype\u001b[0m\u001b[0;34m=\u001b[0m\u001b[0mdtype\u001b[0m\u001b[0;34m)\u001b[0m\u001b[0;34m\u001b[0m\u001b[0;34m\u001b[0m\u001b[0m\n\u001b[1;32m   1148\u001b[0m         \u001b[0;32mif\u001b[0m \u001b[0mdtype\u001b[0m \u001b[0;32mis\u001b[0m \u001b[0;32mNone\u001b[0m\u001b[0;34m:\u001b[0m\u001b[0;34m\u001b[0m\u001b[0;34m\u001b[0m\u001b[0m\n\u001b[0;32m-> 1149\u001b[0;31m             \u001b[0;32mreturn\u001b[0m \u001b[0mself\u001b[0m\u001b[0;34m.\u001b[0m\u001b[0mnumpy\u001b[0m\u001b[0;34m(\u001b[0m\u001b[0;34m)\u001b[0m\u001b[0;34m\u001b[0m\u001b[0;34m\u001b[0m\u001b[0m\n\u001b[0m\u001b[1;32m   1150\u001b[0m         \u001b[0;32melse\u001b[0m\u001b[0;34m:\u001b[0m\u001b[0;34m\u001b[0m\u001b[0;34m\u001b[0m\u001b[0m\n\u001b[1;32m   1151\u001b[0m             \u001b[0;32mreturn\u001b[0m \u001b[0mself\u001b[0m\u001b[0;34m.\u001b[0m\u001b[0mnumpy\u001b[0m\u001b[0;34m(\u001b[0m\u001b[0;34m)\u001b[0m\u001b[0;34m.\u001b[0m\u001b[0mastype\u001b[0m\u001b[0;34m(\u001b[0m\u001b[0mdtype\u001b[0m\u001b[0;34m,\u001b[0m \u001b[0mcopy\u001b[0m\u001b[0;34m=\u001b[0m\u001b[0;32mFalse\u001b[0m\u001b[0;34m)\u001b[0m\u001b[0;34m\u001b[0m\u001b[0;34m\u001b[0m\u001b[0m\n",
            "\u001b[0;31mRuntimeError\u001b[0m: Can't call numpy() on Tensor that requires grad. Use tensor.detach().numpy() instead."
          ]
        },
        {
          "output_type": "display_data",
          "data": {
            "text/plain": [
              "<Figure size 1000x500 with 1 Axes>"
            ],
            "image/png": "[encoded data removed]"
          },
          "metadata": {}
        }
      ]
    },
    {
      "cell_type": "code",
      "source": [
        "# Step 8: Classify the Dataset with the Neural Network\n",
        "tutorial_model = torch.load(\"/home/tutorial_model_default_state\")\n",
        "optimizer = torch.optim.Adam(tutorial_model.parameters(), lr = learning_rate)\n",
        "print(\"Below is the loss graph for dataset training session\")\n",
        "train_network(training_data, labels, iterations = 50)\n"
      ],
      "metadata": {
        "collapsed": true,
        "id": "7CRVU5ZxndLK"
      },
      "execution_count": null,
      "outputs": []
    },
    {
      "cell_type": "code",
      "source": [
        "# Test results\n",
        "classification_1 = tutorial_model(positive_testing_data)\n",
        "for index, value in enumerate(classification_1.data.tolist()):\n",
        "    print(\"P300 Positive Classification {1}: {0:.2f}%\".format(value[0] * 100, index + 1))\n",
        "\n",
        "classification_2 = tutorial_model(negative_testing_data)\n",
        "for index, value in enumerate(classification_2.data.tolist()):\n",
        "    print(\"P300 Negative Classification {1}: {0:.2f}%\".format(value[0] * 100, index + 1))\n"
      ],
      "metadata": {
        "id": "0HSfijyTnf_s"
      },
      "execution_count": null,
      "outputs": []
    },
    {
      "cell_type": "code",
      "source": [
        "from pathlib import Path\n",
        "\n",
        "# Load EEG dataset from MNE library\n",
        "data_path = mne.datasets.sample.data_path()\n",
        "raw_fname = data_path / 'MEG/sample/sample_audvis_filt-0-40_raw.fif'  # Use '/' to join paths\n",
        "raw_data = mne.io.read_raw_fif(raw_fname, preload=True)\n",
        "\n",
        "# Set EEG reference and select channels\n",
        "raw_data.set_eeg_reference()\n",
        "raw_data = raw_data.pick(picks=[\"eeg\",\"eog\"])\n",
        "picks_eeg_only = mne.pick_types(raw_data.info,\n",
        "                                eeg=True,\n",
        "                                eog=True,\n",
        "                                meg=False,\n",
        "                                exclude='bads')\n",
        "\n",
        "# Define events and extract epochs\n",
        "event_fname = data_path / 'MEG/sample/sample_audvis_filt-0-40_raw-eve.fif'  # Use '/' to join paths\n",
        "events = mne.read_events(event_fname)\n",
        "epochs = mne.Epochs(raw_data, events, event_id=5, tmin=-0.5, tmax=1, preload=True, picks=picks_eeg_only, baseline=(None, 0), reject=dict(eeg=100e-6, eog=150e-6), verbose = False)\n",
        "\n",
        "print(epochs)"
      ],
      "metadata": {
        "id": "NBSUuq-KnjAg"
      },
      "execution_count": null,
      "outputs": []
    },
    {
      "cell_type": "code",
      "source": [
        "# This is the channel used to monitor the P300 response\n",
        "channel = \"EEG 058\"\n",
        "\n",
        "# Display a graph of the sensor position we're using\n",
        "sensor_position_figure = epochs.plot_sensors(show_names=[channel])\n",
        "\n",
        "epochs.plot_image(picks=channel)\n",
        "\n",
        "event_id=[1,2,3,4]\n",
        "\n",
        "# Define tmin and tmax, using the same values as for 'epochs'\n",
        "tmin = -0.5\n",
        "tmax = 1\n",
        "\n",
        "epochsNoP300 = mne.Epochs(raw_data, events, event_id, tmin, tmax, proj=True,\n",
        "                    picks=picks_eeg_only, baseline=(None, 0), preload=True,\n",
        "                    reject=dict(eeg=100e-6, eog=150e-6), verbose = False)\n",
        "print(epochsNoP300)"
      ],
      "metadata": {
        "collapsed": true,
        "id": "FC0kE4zinpdh"
      },
      "execution_count": null,
      "outputs": []
    },
    {
      "cell_type": "code",
      "source": [
        "eeg_data_scaler = RobustScaler()\n",
        "\n",
        "# We have 12 p300 samples\n",
        "p300s = np.squeeze(epochs.get_data(picks=channel))\n",
        "\n",
        "# We have 208 non-p300 samples\n",
        "others = np.squeeze(epochsNoP300.get_data(picks=channel))\n",
        "\n",
        "# Scale the p300 data using the RobustScaler\n",
        "p300s = p300s.transpose()\n",
        "p300s = eeg_data_scaler.fit_transform(p300s)\n",
        "p300s = p300s.transpose()\n",
        "\n",
        "# Scale the non-p300 data using the RobustScaler\n",
        "others = others.transpose()\n",
        "others = eeg_data_scaler.fit_transform(others)\n",
        "others = others.transpose()\n",
        "\n",
        "## Prepare the train and test tensors\n",
        "# Specify Positive P300 train and test samples\n",
        "p300s_train = p300s[0:9]\n",
        "p300s_test = p300s[9:12]\n",
        "p300s_test = torch.tensor(p300s_test).float()\n",
        "\n",
        "# Specify Negative P300 train and test samples\n",
        "others_train = others[30:39]\n",
        "others_test = others[39:42]\n",
        "others_test = torch.tensor(others_test).float()\n",
        "\n",
        "# Combine everything into their final structures\n",
        "training_data = torch.tensor(np.concatenate((p300s_train, others_train), axis = 0)).float()\n",
        "positive_testing_data = torch.tensor(p300s_test).float()\n",
        "negative_testing_data = torch.tensor(others_test).float()\n",
        "\n",
        "# Print the size of each of our data structures\n",
        "print(\"training data count: \" + str(training_data.shape[0]))\n",
        "print(\"positive testing data count: \" + str(positive_testing_data.shape[0]))\n",
        "print(\"negative testing data count: \" + str(negative_testing_data.shape[0]))\n",
        "\n",
        "# Generate training labels\n",
        "labels = torch.tensor(np.zeros((training_data.shape[0],1))).float()\n",
        "labels[0:10] = 1.0\n",
        "print(\"training labels count: \" + str(labels.shape[0]))"
      ],
      "metadata": {
        "id": "Pn4Ps0SWw3YR"
      },
      "execution_count": null,
      "outputs": []
    },
    {
      "cell_type": "code",
      "source": [
        "# Make sure we're starting from untrained every time\n",
        "tutorial_model = torch.load(\"/home/tutorial_model_default_state\")\n",
        "\n",
        "## Define a learning function, needs to be reinitialized every load\n",
        "optimizer = torch.optim.Adam(tutorial_model.parameters(), lr = learning_rate)\n",
        "\n",
        "## Use our training procedure with the sample data\n",
        "print(\"Below is the loss graph for dataset training session\")\n",
        "train_network(training_data, labels, iterations = 50)"
      ],
      "metadata": {
        "id": "8CnYKsiaxGKt"
      },
      "execution_count": null,
      "outputs": []
    }
  ]
}